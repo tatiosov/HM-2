{
 "cells": [
  {
   "cell_type": "markdown",
   "source": [
    "# Домашнее задание 1\n",
    "Анализ датасета с помощью Pandas\n",
    "🌟 Скачать данные файл kc_house_data.csv (Дополнительный\n",
    "материал)\n",
    "🌟 Считать данные с помощью pandas\n",
    "🌟 Вывести на экран первые 5 строк\n",
    "🌟 Посмотреть на описание признаков и на их содержание"
   ],
   "metadata": {
    "collapsed": false
   },
   "id": "aceabeaee6916391"
  },
  {
   "cell_type": "code",
   "execution_count": 1,
   "outputs": [],
   "source": [
    "import pandas as pd\n",
    "\n",
    "pd.set_option('display.max_colwidth', None)\n",
    "pd.set_option('display.precision', 6)\n",
    "pd.set_option('display.float_format', '{:,.2f}'.format)"
   ],
   "metadata": {
    "collapsed": false,
    "ExecuteTime": {
     "end_time": "2024-02-24T22:25:45.956977800Z",
     "start_time": "2024-02-24T22:25:45.215882100Z"
    }
   },
   "id": "607fa24604ad8f6d"
  },
  {
   "cell_type": "markdown",
   "source": [
    "### Считать данные с помощью pandas"
   ],
   "metadata": {
    "collapsed": false
   },
   "id": "f3e99cff002fda39"
  },
  {
   "cell_type": "code",
   "execution_count": 2,
   "outputs": [],
   "source": [
    "hd = pd.read_csv('./kc_house_data.csv')"
   ],
   "metadata": {
    "collapsed": false,
    "ExecuteTime": {
     "end_time": "2024-02-24T22:25:46.055263100Z",
     "start_time": "2024-02-24T22:25:45.958974100Z"
    }
   },
   "id": "bae2b5a44596da10"
  },
  {
   "cell_type": "markdown",
   "source": [
    "### Вывести на экран первые 5 строк"
   ],
   "metadata": {
    "collapsed": false
   },
   "id": "27cd4fd8bd700928"
  },
  {
   "cell_type": "code",
   "execution_count": 3,
   "outputs": [
    {
     "data": {
      "text/plain": "           id             date      price  bedrooms  bathrooms  sqft_living  \\\n0  7129300520  20141013T000000 221,900.00         3       1.00         1180   \n1  6414100192  20141209T000000 538,000.00         3       2.25         2570   \n2  5631500400  20150225T000000 180,000.00         2       1.00          770   \n3  2487200875  20141209T000000 604,000.00         4       3.00         1960   \n4  1954400510  20150218T000000 510,000.00         3       2.00         1680   \n\n   sqft_lot  floors  waterfront  view  ...  grade  sqft_above  sqft_basement  \\\n0      5650    1.00           0     0  ...      7        1180              0   \n1      7242    2.00           0     0  ...      7        2170            400   \n2     10000    1.00           0     0  ...      6         770              0   \n3      5000    1.00           0     0  ...      7        1050            910   \n4      8080    1.00           0     0  ...      8        1680              0   \n\n   yr_built  yr_renovated  zipcode   lat    long  sqft_living15  sqft_lot15  \n0      1955             0    98178 47.51 -122.26           1340        5650  \n1      1951          1991    98125 47.72 -122.32           1690        7639  \n2      1933             0    98028 47.74 -122.23           2720        8062  \n3      1965             0    98136 47.52 -122.39           1360        5000  \n4      1987             0    98074 47.62 -122.05           1800        7503  \n\n[5 rows x 21 columns]",
      "text/html": "<div>\n<style scoped>\n    .dataframe tbody tr th:only-of-type {\n        vertical-align: middle;\n    }\n\n    .dataframe tbody tr th {\n        vertical-align: top;\n    }\n\n    .dataframe thead th {\n        text-align: right;\n    }\n</style>\n<table border=\"1\" class=\"dataframe\">\n  <thead>\n    <tr style=\"text-align: right;\">\n      <th></th>\n      <th>id</th>\n      <th>date</th>\n      <th>price</th>\n      <th>bedrooms</th>\n      <th>bathrooms</th>\n      <th>sqft_living</th>\n      <th>sqft_lot</th>\n      <th>floors</th>\n      <th>waterfront</th>\n      <th>view</th>\n      <th>...</th>\n      <th>grade</th>\n      <th>sqft_above</th>\n      <th>sqft_basement</th>\n      <th>yr_built</th>\n      <th>yr_renovated</th>\n      <th>zipcode</th>\n      <th>lat</th>\n      <th>long</th>\n      <th>sqft_living15</th>\n      <th>sqft_lot15</th>\n    </tr>\n  </thead>\n  <tbody>\n    <tr>\n      <th>0</th>\n      <td>7129300520</td>\n      <td>20141013T000000</td>\n      <td>221,900.00</td>\n      <td>3</td>\n      <td>1.00</td>\n      <td>1180</td>\n      <td>5650</td>\n      <td>1.00</td>\n      <td>0</td>\n      <td>0</td>\n      <td>...</td>\n      <td>7</td>\n      <td>1180</td>\n      <td>0</td>\n      <td>1955</td>\n      <td>0</td>\n      <td>98178</td>\n      <td>47.51</td>\n      <td>-122.26</td>\n      <td>1340</td>\n      <td>5650</td>\n    </tr>\n    <tr>\n      <th>1</th>\n      <td>6414100192</td>\n      <td>20141209T000000</td>\n      <td>538,000.00</td>\n      <td>3</td>\n      <td>2.25</td>\n      <td>2570</td>\n      <td>7242</td>\n      <td>2.00</td>\n      <td>0</td>\n      <td>0</td>\n      <td>...</td>\n      <td>7</td>\n      <td>2170</td>\n      <td>400</td>\n      <td>1951</td>\n      <td>1991</td>\n      <td>98125</td>\n      <td>47.72</td>\n      <td>-122.32</td>\n      <td>1690</td>\n      <td>7639</td>\n    </tr>\n    <tr>\n      <th>2</th>\n      <td>5631500400</td>\n      <td>20150225T000000</td>\n      <td>180,000.00</td>\n      <td>2</td>\n      <td>1.00</td>\n      <td>770</td>\n      <td>10000</td>\n      <td>1.00</td>\n      <td>0</td>\n      <td>0</td>\n      <td>...</td>\n      <td>6</td>\n      <td>770</td>\n      <td>0</td>\n      <td>1933</td>\n      <td>0</td>\n      <td>98028</td>\n      <td>47.74</td>\n      <td>-122.23</td>\n      <td>2720</td>\n      <td>8062</td>\n    </tr>\n    <tr>\n      <th>3</th>\n      <td>2487200875</td>\n      <td>20141209T000000</td>\n      <td>604,000.00</td>\n      <td>4</td>\n      <td>3.00</td>\n      <td>1960</td>\n      <td>5000</td>\n      <td>1.00</td>\n      <td>0</td>\n      <td>0</td>\n      <td>...</td>\n      <td>7</td>\n      <td>1050</td>\n      <td>910</td>\n      <td>1965</td>\n      <td>0</td>\n      <td>98136</td>\n      <td>47.52</td>\n      <td>-122.39</td>\n      <td>1360</td>\n      <td>5000</td>\n    </tr>\n    <tr>\n      <th>4</th>\n      <td>1954400510</td>\n      <td>20150218T000000</td>\n      <td>510,000.00</td>\n      <td>3</td>\n      <td>2.00</td>\n      <td>1680</td>\n      <td>8080</td>\n      <td>1.00</td>\n      <td>0</td>\n      <td>0</td>\n      <td>...</td>\n      <td>8</td>\n      <td>1680</td>\n      <td>0</td>\n      <td>1987</td>\n      <td>0</td>\n      <td>98074</td>\n      <td>47.62</td>\n      <td>-122.05</td>\n      <td>1800</td>\n      <td>7503</td>\n    </tr>\n  </tbody>\n</table>\n<p>5 rows × 21 columns</p>\n</div>"
     },
     "execution_count": 3,
     "metadata": {},
     "output_type": "execute_result"
    }
   ],
   "source": [
    "hd.head()"
   ],
   "metadata": {
    "collapsed": false,
    "ExecuteTime": {
     "end_time": "2024-02-24T22:25:46.081247900Z",
     "start_time": "2024-02-24T22:25:46.057262200Z"
    }
   },
   "id": "d6e5ab818eddd35b"
  },
  {
   "cell_type": "markdown",
   "source": [
    "### Посмотреть на описание признаков и на их содержание\n",
    "Судя по описанию данный файл является датасетом по недвижимости в городе Сиэтл, штат Вашингтон, США."
   ],
   "metadata": {
    "collapsed": false
   },
   "id": "4b0e5f31484fc7e6"
  },
  {
   "cell_type": "markdown",
   "source": [
    "## Добавим новые столбцы\n",
    "Изменим столбец date с типом object (строка) на столбец sale_date с типом datetime64"
   ],
   "metadata": {
    "collapsed": false
   },
   "id": "4a0bf68017ec5dca"
  },
  {
   "cell_type": "code",
   "execution_count": 4,
   "outputs": [],
   "source": [
    "hd['sale_date'] = hd['date'].astype(\"datetime64[ns]\")\n",
    "hd = hd.drop('date', axis=1)"
   ],
   "metadata": {
    "collapsed": false,
    "ExecuteTime": {
     "end_time": "2024-02-24T22:25:46.200388200Z",
     "start_time": "2024-02-24T22:25:46.116234800Z"
    }
   },
   "id": "f37e1b6e6e591950"
  },
  {
   "cell_type": "markdown",
   "source": [
    "Изменим столбец waterfront с типом данных int64 на столбец с булевыми значениями"
   ],
   "metadata": {
    "collapsed": false
   },
   "id": "4ba7616666811878"
  },
  {
   "cell_type": "code",
   "execution_count": 5,
   "outputs": [
    {
     "data": {
      "text/plain": "           id      price  bedrooms  bathrooms  sqft_living  sqft_lot  floors  \\\n0  7129300520 221,900.00         3       1.00         1180      5650    1.00   \n1  6414100192 538,000.00         3       2.25         2570      7242    2.00   \n2  5631500400 180,000.00         2       1.00          770     10000    1.00   \n3  2487200875 604,000.00         4       3.00         1960      5000    1.00   \n4  1954400510 510,000.00         3       2.00         1680      8080    1.00   \n\n   view  condition  grade  ...  sqft_basement  yr_built  yr_renovated  \\\n0     0          3      7  ...              0      1955             0   \n1     0          3      7  ...            400      1951          1991   \n2     0          3      6  ...              0      1933             0   \n3     0          5      7  ...            910      1965             0   \n4     0          3      8  ...              0      1987             0   \n\n   zipcode   lat    long  sqft_living15  sqft_lot15  sale_date is_waterfront  \n0    98178 47.51 -122.26           1340        5650 2014-10-13         False  \n1    98125 47.72 -122.32           1690        7639 2014-12-09         False  \n2    98028 47.74 -122.23           2720        8062 2015-02-25         False  \n3    98136 47.52 -122.39           1360        5000 2014-12-09         False  \n4    98074 47.62 -122.05           1800        7503 2015-02-18         False  \n\n[5 rows x 21 columns]",
      "text/html": "<div>\n<style scoped>\n    .dataframe tbody tr th:only-of-type {\n        vertical-align: middle;\n    }\n\n    .dataframe tbody tr th {\n        vertical-align: top;\n    }\n\n    .dataframe thead th {\n        text-align: right;\n    }\n</style>\n<table border=\"1\" class=\"dataframe\">\n  <thead>\n    <tr style=\"text-align: right;\">\n      <th></th>\n      <th>id</th>\n      <th>price</th>\n      <th>bedrooms</th>\n      <th>bathrooms</th>\n      <th>sqft_living</th>\n      <th>sqft_lot</th>\n      <th>floors</th>\n      <th>view</th>\n      <th>condition</th>\n      <th>grade</th>\n      <th>...</th>\n      <th>sqft_basement</th>\n      <th>yr_built</th>\n      <th>yr_renovated</th>\n      <th>zipcode</th>\n      <th>lat</th>\n      <th>long</th>\n      <th>sqft_living15</th>\n      <th>sqft_lot15</th>\n      <th>sale_date</th>\n      <th>is_waterfront</th>\n    </tr>\n  </thead>\n  <tbody>\n    <tr>\n      <th>0</th>\n      <td>7129300520</td>\n      <td>221,900.00</td>\n      <td>3</td>\n      <td>1.00</td>\n      <td>1180</td>\n      <td>5650</td>\n      <td>1.00</td>\n      <td>0</td>\n      <td>3</td>\n      <td>7</td>\n      <td>...</td>\n      <td>0</td>\n      <td>1955</td>\n      <td>0</td>\n      <td>98178</td>\n      <td>47.51</td>\n      <td>-122.26</td>\n      <td>1340</td>\n      <td>5650</td>\n      <td>2014-10-13</td>\n      <td>False</td>\n    </tr>\n    <tr>\n      <th>1</th>\n      <td>6414100192</td>\n      <td>538,000.00</td>\n      <td>3</td>\n      <td>2.25</td>\n      <td>2570</td>\n      <td>7242</td>\n      <td>2.00</td>\n      <td>0</td>\n      <td>3</td>\n      <td>7</td>\n      <td>...</td>\n      <td>400</td>\n      <td>1951</td>\n      <td>1991</td>\n      <td>98125</td>\n      <td>47.72</td>\n      <td>-122.32</td>\n      <td>1690</td>\n      <td>7639</td>\n      <td>2014-12-09</td>\n      <td>False</td>\n    </tr>\n    <tr>\n      <th>2</th>\n      <td>5631500400</td>\n      <td>180,000.00</td>\n      <td>2</td>\n      <td>1.00</td>\n      <td>770</td>\n      <td>10000</td>\n      <td>1.00</td>\n      <td>0</td>\n      <td>3</td>\n      <td>6</td>\n      <td>...</td>\n      <td>0</td>\n      <td>1933</td>\n      <td>0</td>\n      <td>98028</td>\n      <td>47.74</td>\n      <td>-122.23</td>\n      <td>2720</td>\n      <td>8062</td>\n      <td>2015-02-25</td>\n      <td>False</td>\n    </tr>\n    <tr>\n      <th>3</th>\n      <td>2487200875</td>\n      <td>604,000.00</td>\n      <td>4</td>\n      <td>3.00</td>\n      <td>1960</td>\n      <td>5000</td>\n      <td>1.00</td>\n      <td>0</td>\n      <td>5</td>\n      <td>7</td>\n      <td>...</td>\n      <td>910</td>\n      <td>1965</td>\n      <td>0</td>\n      <td>98136</td>\n      <td>47.52</td>\n      <td>-122.39</td>\n      <td>1360</td>\n      <td>5000</td>\n      <td>2014-12-09</td>\n      <td>False</td>\n    </tr>\n    <tr>\n      <th>4</th>\n      <td>1954400510</td>\n      <td>510,000.00</td>\n      <td>3</td>\n      <td>2.00</td>\n      <td>1680</td>\n      <td>8080</td>\n      <td>1.00</td>\n      <td>0</td>\n      <td>3</td>\n      <td>8</td>\n      <td>...</td>\n      <td>0</td>\n      <td>1987</td>\n      <td>0</td>\n      <td>98074</td>\n      <td>47.62</td>\n      <td>-122.05</td>\n      <td>1800</td>\n      <td>7503</td>\n      <td>2015-02-18</td>\n      <td>False</td>\n    </tr>\n  </tbody>\n</table>\n<p>5 rows × 21 columns</p>\n</div>"
     },
     "execution_count": 5,
     "metadata": {},
     "output_type": "execute_result"
    }
   ],
   "source": [
    "hd['is_waterfront'] = hd['waterfront'].astype(bool)\n",
    "hd = hd.drop('waterfront', axis=1)\n",
    "hd.head()"
   ],
   "metadata": {
    "collapsed": false,
    "ExecuteTime": {
     "end_time": "2024-02-24T22:25:46.233377500Z",
     "start_time": "2024-02-24T22:25:46.126235Z"
    }
   },
   "id": "d9730e3a6d64a1e4"
  },
  {
   "cell_type": "markdown",
   "source": [
    "# Домашнее задание 2\n",
    "## Проведите первичный анализ данных"
   ],
   "metadata": {
    "collapsed": false
   },
   "id": "f4f5cf423d41e83d"
  },
  {
   "cell_type": "markdown",
   "source": [
    "\n",
    "1. Изучите типы данных\n"
   ],
   "metadata": {
    "collapsed": false
   },
   "id": "87e95b829ea58ee"
  },
  {
   "cell_type": "code",
   "execution_count": 6,
   "outputs": [
    {
     "name": "stdout",
     "output_type": "stream",
     "text": [
      "<class 'pandas.core.frame.DataFrame'>\n",
      "RangeIndex: 21613 entries, 0 to 21612\n",
      "Data columns (total 21 columns):\n",
      " #   Column         Non-Null Count  Dtype         \n",
      "---  ------         --------------  -----         \n",
      " 0   id             21613 non-null  int64         \n",
      " 1   price          21613 non-null  float64       \n",
      " 2   bedrooms       21613 non-null  int64         \n",
      " 3   bathrooms      21613 non-null  float64       \n",
      " 4   sqft_living    21613 non-null  int64         \n",
      " 5   sqft_lot       21613 non-null  int64         \n",
      " 6   floors         21613 non-null  float64       \n",
      " 7   view           21613 non-null  int64         \n",
      " 8   condition      21613 non-null  int64         \n",
      " 9   grade          21613 non-null  int64         \n",
      " 10  sqft_above     21613 non-null  int64         \n",
      " 11  sqft_basement  21613 non-null  int64         \n",
      " 12  yr_built       21613 non-null  int64         \n",
      " 13  yr_renovated   21613 non-null  int64         \n",
      " 14  zipcode        21613 non-null  int64         \n",
      " 15  lat            21613 non-null  float64       \n",
      " 16  long           21613 non-null  float64       \n",
      " 17  sqft_living15  21613 non-null  int64         \n",
      " 18  sqft_lot15     21613 non-null  int64         \n",
      " 19  sale_date      21613 non-null  datetime64[ns]\n",
      " 20  is_waterfront  21613 non-null  bool          \n",
      "dtypes: bool(1), datetime64[ns](1), float64(5), int64(14)\n",
      "memory usage: 3.3 MB\n"
     ]
    }
   ],
   "source": [
    "hd.info()"
   ],
   "metadata": {
    "collapsed": false,
    "ExecuteTime": {
     "end_time": "2024-02-24T22:25:46.234378700Z",
     "start_time": "2024-02-24T22:25:46.154435500Z"
    }
   },
   "id": "eb6fe953f69fd2d5"
  },
  {
   "cell_type": "markdown",
   "source": [
    "2. Найдите количество пропущенных ячеек в данных\n"
   ],
   "metadata": {
    "collapsed": false
   },
   "id": "f5d9ba3825b2fb6c"
  },
  {
   "cell_type": "code",
   "execution_count": 7,
   "outputs": [
    {
     "data": {
      "text/plain": "id               0\nprice            0\nbedrooms         0\nbathrooms        0\nsqft_living      0\nsqft_lot         0\nfloors           0\nview             0\ncondition        0\ngrade            0\nsqft_above       0\nsqft_basement    0\nyr_built         0\nyr_renovated     0\nzipcode          0\nlat              0\nlong             0\nsqft_living15    0\nsqft_lot15       0\nsale_date        0\nis_waterfront    0\ndtype: int64"
     },
     "execution_count": 7,
     "metadata": {},
     "output_type": "execute_result"
    }
   ],
   "source": [
    "hd.isna().sum()"
   ],
   "metadata": {
    "collapsed": false,
    "ExecuteTime": {
     "end_time": "2024-02-24T22:25:46.234378700Z",
     "start_time": "2024-02-24T22:25:46.172033300Z"
    }
   },
   "id": "c0f7152e89a36e22"
  },
  {
   "cell_type": "code",
   "execution_count": 8,
   "outputs": [
    {
     "data": {
      "text/plain": "id               0\nprice            0\nbedrooms         0\nbathrooms        0\nsqft_living      0\nsqft_lot         0\nfloors           0\nview             0\ncondition        0\ngrade            0\nsqft_above       0\nsqft_basement    0\nyr_built         0\nyr_renovated     0\nzipcode          0\nlat              0\nlong             0\nsqft_living15    0\nsqft_lot15       0\nsale_date        0\nis_waterfront    0\ndtype: int64"
     },
     "execution_count": 8,
     "metadata": {},
     "output_type": "execute_result"
    }
   ],
   "source": [
    "hd.isnull().sum()"
   ],
   "metadata": {
    "collapsed": false,
    "ExecuteTime": {
     "end_time": "2024-02-24T22:25:46.234378700Z",
     "start_time": "2024-02-24T22:25:46.183102200Z"
    }
   },
   "id": "93eab1af7275b89c"
  },
  {
   "cell_type": "markdown",
   "source": [
    "Пропущенных ячеек нет."
   ],
   "metadata": {
    "collapsed": false
   },
   "id": "67cde68fb84c0353"
  },
  {
   "cell_type": "markdown",
   "source": [
    "3. Посчитайте основные статистики по всем признакам и поизучайте их"
   ],
   "metadata": {
    "collapsed": false
   },
   "id": "2b07876da0b2744f"
  },
  {
   "cell_type": "code",
   "execution_count": 9,
   "outputs": [
    {
     "data": {
      "text/plain": "                    id        price  bedrooms  bathrooms  sqft_living  \\\ncount        21,613.00    21,613.00 21,613.00  21,613.00    21,613.00   \nmean  4,580,301,520.86   540,088.14      3.37       2.11     2,079.90   \nmin       1,000,102.00    75,000.00      0.00       0.00       290.00   \n25%   2,123,049,194.00   321,950.00      3.00       1.75     1,427.00   \n50%   3,904,930,410.00   450,000.00      3.00       2.25     1,910.00   \n75%   7,308,900,445.00   645,000.00      4.00       2.50     2,550.00   \nmax   9,900,000,190.00 7,700,000.00     33.00       8.00    13,540.00   \nstd   2,876,565,571.31   367,127.20      0.93       0.77       918.44   \n\n          sqft_lot    floors      view  condition     grade  sqft_above  \\\ncount    21,613.00 21,613.00 21,613.00  21,613.00 21,613.00   21,613.00   \nmean     15,106.97      1.49      0.23       3.41      7.66    1,788.39   \nmin         520.00      1.00      0.00       1.00      1.00      290.00   \n25%       5,040.00      1.00      0.00       3.00      7.00    1,190.00   \n50%       7,618.00      1.50      0.00       3.00      7.00    1,560.00   \n75%      10,688.00      2.00      0.00       4.00      8.00    2,210.00   \nmax   1,651,359.00      3.50      4.00       5.00     13.00    9,410.00   \nstd      41,420.51      0.54      0.77       0.65      1.18      828.09   \n\n       sqft_basement  yr_built  yr_renovated   zipcode       lat      long  \\\ncount      21,613.00 21,613.00     21,613.00 21,613.00 21,613.00 21,613.00   \nmean          291.51  1,971.01         84.40 98,077.94     47.56   -122.21   \nmin             0.00  1,900.00          0.00 98,001.00     47.16   -122.52   \n25%             0.00  1,951.00          0.00 98,033.00     47.47   -122.33   \n50%             0.00  1,975.00          0.00 98,065.00     47.57   -122.23   \n75%           560.00  1,997.00          0.00 98,118.00     47.68   -122.12   \nmax         4,820.00  2,015.00      2,015.00 98,199.00     47.78   -121.31   \nstd           442.58     29.37        401.68     53.51      0.14      0.14   \n\n       sqft_living15  sqft_lot15                      sale_date  \ncount      21,613.00   21,613.00                          21613  \nmean        1,986.55   12,768.46  2014-10-29 04:38:01.959931648  \nmin           399.00      651.00            2014-05-02 00:00:00  \n25%         1,490.00    5,100.00            2014-07-22 00:00:00  \n50%         1,840.00    7,620.00            2014-10-16 00:00:00  \n75%         2,360.00   10,083.00            2015-02-17 00:00:00  \nmax         6,210.00  871,200.00            2015-05-27 00:00:00  \nstd           685.39   27,304.18                            NaN  ",
      "text/html": "<div>\n<style scoped>\n    .dataframe tbody tr th:only-of-type {\n        vertical-align: middle;\n    }\n\n    .dataframe tbody tr th {\n        vertical-align: top;\n    }\n\n    .dataframe thead th {\n        text-align: right;\n    }\n</style>\n<table border=\"1\" class=\"dataframe\">\n  <thead>\n    <tr style=\"text-align: right;\">\n      <th></th>\n      <th>id</th>\n      <th>price</th>\n      <th>bedrooms</th>\n      <th>bathrooms</th>\n      <th>sqft_living</th>\n      <th>sqft_lot</th>\n      <th>floors</th>\n      <th>view</th>\n      <th>condition</th>\n      <th>grade</th>\n      <th>sqft_above</th>\n      <th>sqft_basement</th>\n      <th>yr_built</th>\n      <th>yr_renovated</th>\n      <th>zipcode</th>\n      <th>lat</th>\n      <th>long</th>\n      <th>sqft_living15</th>\n      <th>sqft_lot15</th>\n      <th>sale_date</th>\n    </tr>\n  </thead>\n  <tbody>\n    <tr>\n      <th>count</th>\n      <td>21,613.00</td>\n      <td>21,613.00</td>\n      <td>21,613.00</td>\n      <td>21,613.00</td>\n      <td>21,613.00</td>\n      <td>21,613.00</td>\n      <td>21,613.00</td>\n      <td>21,613.00</td>\n      <td>21,613.00</td>\n      <td>21,613.00</td>\n      <td>21,613.00</td>\n      <td>21,613.00</td>\n      <td>21,613.00</td>\n      <td>21,613.00</td>\n      <td>21,613.00</td>\n      <td>21,613.00</td>\n      <td>21,613.00</td>\n      <td>21,613.00</td>\n      <td>21,613.00</td>\n      <td>21613</td>\n    </tr>\n    <tr>\n      <th>mean</th>\n      <td>4,580,301,520.86</td>\n      <td>540,088.14</td>\n      <td>3.37</td>\n      <td>2.11</td>\n      <td>2,079.90</td>\n      <td>15,106.97</td>\n      <td>1.49</td>\n      <td>0.23</td>\n      <td>3.41</td>\n      <td>7.66</td>\n      <td>1,788.39</td>\n      <td>291.51</td>\n      <td>1,971.01</td>\n      <td>84.40</td>\n      <td>98,077.94</td>\n      <td>47.56</td>\n      <td>-122.21</td>\n      <td>1,986.55</td>\n      <td>12,768.46</td>\n      <td>2014-10-29 04:38:01.959931648</td>\n    </tr>\n    <tr>\n      <th>min</th>\n      <td>1,000,102.00</td>\n      <td>75,000.00</td>\n      <td>0.00</td>\n      <td>0.00</td>\n      <td>290.00</td>\n      <td>520.00</td>\n      <td>1.00</td>\n      <td>0.00</td>\n      <td>1.00</td>\n      <td>1.00</td>\n      <td>290.00</td>\n      <td>0.00</td>\n      <td>1,900.00</td>\n      <td>0.00</td>\n      <td>98,001.00</td>\n      <td>47.16</td>\n      <td>-122.52</td>\n      <td>399.00</td>\n      <td>651.00</td>\n      <td>2014-05-02 00:00:00</td>\n    </tr>\n    <tr>\n      <th>25%</th>\n      <td>2,123,049,194.00</td>\n      <td>321,950.00</td>\n      <td>3.00</td>\n      <td>1.75</td>\n      <td>1,427.00</td>\n      <td>5,040.00</td>\n      <td>1.00</td>\n      <td>0.00</td>\n      <td>3.00</td>\n      <td>7.00</td>\n      <td>1,190.00</td>\n      <td>0.00</td>\n      <td>1,951.00</td>\n      <td>0.00</td>\n      <td>98,033.00</td>\n      <td>47.47</td>\n      <td>-122.33</td>\n      <td>1,490.00</td>\n      <td>5,100.00</td>\n      <td>2014-07-22 00:00:00</td>\n    </tr>\n    <tr>\n      <th>50%</th>\n      <td>3,904,930,410.00</td>\n      <td>450,000.00</td>\n      <td>3.00</td>\n      <td>2.25</td>\n      <td>1,910.00</td>\n      <td>7,618.00</td>\n      <td>1.50</td>\n      <td>0.00</td>\n      <td>3.00</td>\n      <td>7.00</td>\n      <td>1,560.00</td>\n      <td>0.00</td>\n      <td>1,975.00</td>\n      <td>0.00</td>\n      <td>98,065.00</td>\n      <td>47.57</td>\n      <td>-122.23</td>\n      <td>1,840.00</td>\n      <td>7,620.00</td>\n      <td>2014-10-16 00:00:00</td>\n    </tr>\n    <tr>\n      <th>75%</th>\n      <td>7,308,900,445.00</td>\n      <td>645,000.00</td>\n      <td>4.00</td>\n      <td>2.50</td>\n      <td>2,550.00</td>\n      <td>10,688.00</td>\n      <td>2.00</td>\n      <td>0.00</td>\n      <td>4.00</td>\n      <td>8.00</td>\n      <td>2,210.00</td>\n      <td>560.00</td>\n      <td>1,997.00</td>\n      <td>0.00</td>\n      <td>98,118.00</td>\n      <td>47.68</td>\n      <td>-122.12</td>\n      <td>2,360.00</td>\n      <td>10,083.00</td>\n      <td>2015-02-17 00:00:00</td>\n    </tr>\n    <tr>\n      <th>max</th>\n      <td>9,900,000,190.00</td>\n      <td>7,700,000.00</td>\n      <td>33.00</td>\n      <td>8.00</td>\n      <td>13,540.00</td>\n      <td>1,651,359.00</td>\n      <td>3.50</td>\n      <td>4.00</td>\n      <td>5.00</td>\n      <td>13.00</td>\n      <td>9,410.00</td>\n      <td>4,820.00</td>\n      <td>2,015.00</td>\n      <td>2,015.00</td>\n      <td>98,199.00</td>\n      <td>47.78</td>\n      <td>-121.31</td>\n      <td>6,210.00</td>\n      <td>871,200.00</td>\n      <td>2015-05-27 00:00:00</td>\n    </tr>\n    <tr>\n      <th>std</th>\n      <td>2,876,565,571.31</td>\n      <td>367,127.20</td>\n      <td>0.93</td>\n      <td>0.77</td>\n      <td>918.44</td>\n      <td>41,420.51</td>\n      <td>0.54</td>\n      <td>0.77</td>\n      <td>0.65</td>\n      <td>1.18</td>\n      <td>828.09</td>\n      <td>442.58</td>\n      <td>29.37</td>\n      <td>401.68</td>\n      <td>53.51</td>\n      <td>0.14</td>\n      <td>0.14</td>\n      <td>685.39</td>\n      <td>27,304.18</td>\n      <td>NaN</td>\n    </tr>\n  </tbody>\n</table>\n</div>"
     },
     "execution_count": 9,
     "metadata": {},
     "output_type": "execute_result"
    }
   ],
   "source": [
    "\n",
    "hd.describe()"
   ],
   "metadata": {
    "collapsed": false,
    "ExecuteTime": {
     "end_time": "2024-02-24T22:25:46.415971100Z",
     "start_time": "2024-02-24T22:25:46.194388200Z"
    }
   },
   "id": "6498e86288184369"
  },
  {
   "cell_type": "markdown",
   "source": [
    "4. Пишите выводы\n",
    "\n",
    "Данный файл является датасетом недвижимости на 61 авеню, города Сиэтл, штат Вашингтон, США.\n",
    "Содержит информацию о ценах, площади, качестве, количестве комнат и об окружении 21613 объектах недвижимости. "
   ],
   "metadata": {
    "collapsed": false
   },
   "id": "67c38937f4919737"
  },
  {
   "cell_type": "markdown",
   "source": [
    "# Домашнее задание 3\n",
    "## Ответьте на несколько вопросов"
   ],
   "metadata": {
    "collapsed": false
   },
   "id": "5373fca139de4575"
  },
  {
   "cell_type": "markdown",
   "source": [
    "3.1 В каком диапазоне изменяются стоимости недвижимости?"
   ],
   "metadata": {
    "collapsed": false
   },
   "id": "ae8abd09d3ee198"
  },
  {
   "cell_type": "code",
   "execution_count": 10,
   "outputs": [
    {
     "data": {
      "text/plain": "'Стоимость недвижимости изменяется в диапазоне от 75,000.00 до 7,700,000.00'"
     },
     "execution_count": 10,
     "metadata": {},
     "output_type": "execute_result"
    }
   ],
   "source": [
    "min_price = hd['price'].min()\n",
    "max_price = hd['price'].max()\n",
    "f'Стоимость недвижимости изменяется в диапазоне от {min_price:,.2f} до {max_price:,.2f}'"
   ],
   "metadata": {
    "collapsed": false,
    "ExecuteTime": {
     "end_time": "2024-02-24T22:25:46.449107600Z",
     "start_time": "2024-02-24T22:25:46.290537600Z"
    }
   },
   "id": "a725ad654cb1eda9"
  },
  {
   "cell_type": "markdown",
   "source": [
    "3.2 Какую долю в среднем занимают жилая площадь от всей площади по всем домам?"
   ],
   "metadata": {
    "collapsed": false
   },
   "id": "d558aef4bd1ecda5"
  },
  {
   "cell_type": "code",
   "execution_count": 11,
   "outputs": [
    {
     "name": "stdout",
     "output_type": "stream",
     "text": [
      "Доля занимаемая жилой площадью (44952873) от общей площади дома (326506890) в среднем составляет 13.77%\n"
     ]
    }
   ],
   "source": [
    "total_living_sqft = hd['sqft_living'].sum()\n",
    "total_lot_sqft = hd['sqft_lot'].sum()\n",
    "total_objects = hd['id'].count()\n",
    "print(\n",
    "    f\"Доля занимаемая жилой площадью ({hd['sqft_living'].sum():.0f}) от общей площади дома ({hd['sqft_lot'].sum():.0f}) в среднем составляет {hd['sqft_living'].mean() / hd['sqft_lot'].mean() * 100:.2f}%\")"
   ],
   "metadata": {
    "collapsed": false,
    "ExecuteTime": {
     "end_time": "2024-02-24T22:25:46.450107300Z",
     "start_time": "2024-02-24T22:25:46.295544500Z"
    }
   },
   "id": "559d5b11b6dd502d"
  },
  {
   "cell_type": "markdown",
   "source": [
    "3.3 Как много домов с разными этажами в данных?"
   ],
   "metadata": {
    "collapsed": false
   },
   "id": "50860fcc41ef60b6"
  },
  {
   "cell_type": "code",
   "execution_count": 12,
   "outputs": [
    {
     "name": "stdout",
     "output_type": "stream",
     "text": [
      "Домов с разными этажами:\n"
     ]
    },
    {
     "data": {
      "text/plain": "floors\n1.00    10680\n2.00     8241\n1.50     1910\n3.00      613\n2.50      161\n3.50        8\nName: count, dtype: int64"
     },
     "execution_count": 12,
     "metadata": {},
     "output_type": "execute_result"
    }
   ],
   "source": [
    "print(\"Домов с разными этажами:\\n\")\n",
    "hd['floors'].value_counts()"
   ],
   "metadata": {
    "collapsed": false,
    "ExecuteTime": {
     "end_time": "2024-02-24T22:25:46.451106900Z",
     "start_time": "2024-02-24T22:25:46.303179600Z"
    }
   },
   "id": "92f002d81999fab8"
  },
  {
   "cell_type": "markdown",
   "source": [
    "3.4 Насколько хорошие состояния у домов в данных?"
   ],
   "metadata": {
    "collapsed": false
   },
   "id": "8866a36904bcad34"
  },
  {
   "cell_type": "code",
   "execution_count": 13,
   "outputs": [
    {
     "data": {
      "text/plain": "condition\n3    14031\n4     5679\n5     1701\n2      172\n1       30\nName: count, dtype: int64"
     },
     "execution_count": 13,
     "metadata": {},
     "output_type": "execute_result"
    }
   ],
   "source": [
    "hd['condition'].value_counts()"
   ],
   "metadata": {
    "collapsed": false,
    "ExecuteTime": {
     "end_time": "2024-02-24T22:25:46.451461200Z",
     "start_time": "2024-02-24T22:25:46.312017800Z"
    }
   },
   "id": "bbbd70f66e80f823"
  },
  {
   "cell_type": "markdown",
   "source": [
    "3.5 Найдите года, когда построили первый дом, когда построили последний дом в данных?"
   ],
   "metadata": {
    "collapsed": false
   },
   "id": "1a3de0a2cba53448"
  },
  {
   "cell_type": "code",
   "execution_count": 14,
   "outputs": [
    {
     "name": "stdout",
     "output_type": "stream",
     "text": [
      "Первый дом построили в 1900 году, последний дом построили в 2015 году\n",
      "Первый дом в датасете построили в 1955 году, последний дом в датасете построили в 2008 году\n"
     ]
    }
   ],
   "source": [
    "print(f\"Первый дом построили в {hd['yr_built'].min()} году, последний дом построили в {hd['yr_built'].max()} году\")\n",
    "print(\n",
    "    f\"Первый дом в датасете построили в {hd.iloc[0]['yr_built']} году, последний дом в датасете построили в {hd.iloc[-1]['yr_built']} году\")"
   ],
   "metadata": {
    "collapsed": false,
    "ExecuteTime": {
     "end_time": "2024-02-24T22:25:46.451964300Z",
     "start_time": "2024-02-24T22:25:46.323631300Z"
    }
   },
   "id": "abc2dfb0718062c9"
  },
  {
   "cell_type": "markdown",
   "source": [
    "# Домашнее задание 4\n",
    "## Ответьте на несколько вопросов"
   ],
   "metadata": {
    "collapsed": false
   },
   "id": "941501ea8bfa2fdc"
  },
  {
   "cell_type": "markdown",
   "source": [
    "4.1 Сколько в среднем стоят дома, у которых 2 спальни?"
   ],
   "metadata": {
    "collapsed": false
   },
   "id": "bc67550cc9b70e7d"
  },
  {
   "cell_type": "code",
   "execution_count": 15,
   "outputs": [
    {
     "name": "stdout",
     "output_type": "stream",
     "text": [
      "Дома у которых 2 спальни в среднем стоят 401,372.68\n",
      "Проверка: всего домов с двумя спальнями 2760 шт. Общая стоимость этих домов 1,107,788,602.00. Средняя стоимость равна 401,372.68\n"
     ]
    }
   ],
   "source": [
    "print(f\"Дома у которых 2 спальни в среднем стоят {hd[hd['bedrooms'] == 2]['price'].mean():,.2f}\")\n",
    "two_bedrooms_house = hd[hd['bedrooms'] == 2]\n",
    "total_price_2br_house = two_bedrooms_house['price'].sum()\n",
    "print(\n",
    "    f\"Проверка: всего домов с двумя спальнями {two_bedrooms_house['id'].count()} шт. Общая стоимость этих домов {total_price_2br_house:,.2f}. Средняя стоимость равна {total_price_2br_house / two_bedrooms_house['id'].count():,.2f}\")"
   ],
   "metadata": {
    "collapsed": false,
    "ExecuteTime": {
     "end_time": "2024-02-24T22:25:46.451964300Z",
     "start_time": "2024-02-24T22:25:46.332746500Z"
    }
   },
   "id": "8d106979ecff387"
  },
  {
   "cell_type": "markdown",
   "source": [
    "4.2 Какая в среднем общая площадь домов, у которых стоимость больше 600 000?"
   ],
   "metadata": {
    "collapsed": false
   },
   "id": "339240ef715831c6"
  },
  {
   "cell_type": "code",
   "execution_count": 16,
   "outputs": [
    {
     "data": {
      "text/plain": "'Общая площадь домов стоимость которых больше 600 000 в среднем равна 20,442.52'"
     },
     "execution_count": 16,
     "metadata": {},
     "output_type": "execute_result"
    }
   ],
   "source": [
    "f\"Общая площадь домов стоимость которых больше 600 000 в среднем равна {hd[hd['price'] > 600_000]['sqft_lot'].mean():,.2f}\""
   ],
   "metadata": {
    "collapsed": false,
    "ExecuteTime": {
     "end_time": "2024-02-24T22:25:46.452968200Z",
     "start_time": "2024-02-24T22:25:46.344047800Z"
    }
   },
   "id": "511bca9830d89424"
  },
  {
   "cell_type": "markdown",
   "source": [
    "4.3 Как много домов коснулся ремонт?"
   ],
   "metadata": {
    "collapsed": false
   },
   "id": "1bc36439b139d606"
  },
  {
   "cell_type": "code",
   "execution_count": 17,
   "outputs": [
    {
     "data": {
      "text/plain": "'914 домов были отремонтированы'"
     },
     "execution_count": 17,
     "metadata": {},
     "output_type": "execute_result"
    }
   ],
   "source": [
    "f\"{hd[hd['yr_renovated'] != 0]['id'].count()} домов были отремонтированы\""
   ],
   "metadata": {
    "collapsed": false,
    "ExecuteTime": {
     "end_time": "2024-02-24T22:25:46.452968200Z",
     "start_time": "2024-02-24T22:25:46.356952800Z"
    }
   },
   "id": "54c8e46c768938d4"
  },
  {
   "cell_type": "markdown",
   "source": [
    "4.4 Насколько в среднем стоимость домов с оценкой grade домов выше 10 отличается от стоимости домов с оценкой grade меньше 4?"
   ],
   "metadata": {
    "collapsed": false
   },
   "id": "37b10695c3313e77"
  },
  {
   "cell_type": "code",
   "execution_count": 18,
   "outputs": [
    {
     "data": {
      "text/plain": "'В среднем стоимость домов с оценкой grade выше 10 отличается от стоимости домов с оценкой grade меньше 4 на 1,488,885.12'"
     },
     "execution_count": 18,
     "metadata": {},
     "output_type": "execute_result"
    }
   ],
   "source": [
    "mean_price_grade_gr_10 = hd[hd['grade'] > 10]['price'].mean()\n",
    "mean_price_grade_lt_4 = hd[hd['grade'] < 4]['price'].mean()\n",
    "diff_price = mean_price_grade_gr_10 - mean_price_grade_lt_4\n",
    "f\"В среднем стоимость домов с оценкой grade выше 10 отличается от стоимости домов с оценкой grade меньше 4 на {diff_price:,.2f}\""
   ],
   "metadata": {
    "collapsed": false,
    "ExecuteTime": {
     "end_time": "2024-02-24T22:25:46.453966400Z",
     "start_time": "2024-02-24T22:25:46.367725200Z"
    }
   },
   "id": "429efbbb26264ab2"
  },
  {
   "cell_type": "markdown",
   "source": [
    "# Домашнее задание 5\n",
    "## 5.1 Выберите дом клиенту\n",
    "Клиент хочет дом с видом на набережную, как минимум с тремя\n",
    "ванными и с подвалом. Сколько вариантов есть у клиента?"
   ],
   "metadata": {
    "collapsed": false
   },
   "id": "b0823a8723c670e0"
  },
  {
   "cell_type": "code",
   "execution_count": 19,
   "outputs": [
    {
     "name": "stdout",
     "output_type": "stream",
     "text": [
      "По данному запросу есть 41 вариант(a,ов)\n"
     ]
    },
    {
     "data": {
      "text/plain": "               id        price  bedrooms  bathrooms  sqft_living  sqft_lot  \\\n300    3225069065 3,075,000.00         4       5.00         4550     18641   \n457    2122039094   705,000.00         3       3.00         1970     20978   \n1164   1247600105 5,110,800.00         5       5.25         8010     45517   \n1261   7636800041   995,000.00         3       4.50         4380     47044   \n1315   7558700030 5,300,000.00         6       6.00         7390     24829   \n1361   1925069082 2,200,000.00         5       4.25         4640     22703   \n2626   7738500731 4,500,000.00         5       5.50         6640     40014   \n2864   4114601570 3,600,000.00         3       3.25         5020     12431   \n3914   9808700762 7,062,500.00         5       4.50        10040     37325   \n3934   1269200229 1,379,900.00         3       3.25         3786     38038   \n5760    623059016 1,100,000.00         4       3.25         3190     11774   \n6233   2024069008 2,200,000.00         5       4.75         5990     10450   \n6508   4217402115 3,650,000.00         6       4.75         5480     19401   \n7989   9362000040 3,400,000.00         3       4.50         5230     17826   \n8092   1924059029 4,668,000.00         5       6.75         9640     13068   \n8163   1724069079 1,452,000.00         2       3.25         2070      3128   \n8784   3343302110 1,800,000.00         3       3.00         2790     13295   \n10263   625059036 2,700,000.00         5       4.00         4230     27295   \n11257  3761100045 3,000,000.00         4       4.25         4850     12445   \n11402  3426049284 2,300,000.00         4       3.25         4110     15929   \n11424  5119400075   950,000.00         3       3.25         3050     18892   \n11446   624069035 2,750,000.00         4       4.00         4130      5575   \n11844  2623039082   770,000.00         3       3.50         2050     21744   \n12459  4114601580 1,900,000.00         6       4.00         3020     13237   \n12935  3222049044   835,000.00         3       3.00         2790     12523   \n13710  2923500230 2,600,000.00         4       4.50         5270     12195   \n13967  3126059023 3,395,000.00         4       3.50         4730     47870   \n14083  3625059043 3,300,000.00         5       4.75         6200     13873   \n14619  7936500109 2,230,000.00         3       3.00         3620     28064   \n14822  3623500408 2,600,000.00         3       3.00         3410     16015   \n15482   624069108 3,200,000.00         4       3.25         7000     28206   \n15668  4030100290 1,680,000.00         5       3.50         5170      7197   \n16817   825059178 2,574,000.00         4       3.75         4475     20424   \n17767  7352200450 2,050,000.00         4       3.25         3580     19989   \n18199  3625059152 3,300,000.00         3       3.25         4220     41300   \n18455  8043700300 2,700,000.00         4       3.25         4420      7850   \n18556  6613000930 2,950,000.00         4       3.25         3890     25470   \n20325   518500480 3,000,000.00         3       3.50         4410     10756   \n20767  8043700105 2,300,000.00         4       4.00         4360      8175   \n21201   518500460 2,230,000.00         3       3.50         3760      5634   \n21576  9253900271 3,567,000.00         5       4.50         4850     10584   \n\n       floors  view  condition  grade  ...  sqft_basement  yr_built  \\\n300      1.00     4          3     10  ...           1950      2002   \n457      2.00     3          4      9  ...            200      1980   \n1164     2.00     4          3     12  ...           2020      1999   \n1261     2.00     3          3      9  ...            660      1968   \n1315     2.00     4          4     12  ...           2390      1991   \n1361     2.00     4          5      8  ...           1780      1952   \n2626     2.00     4          3     12  ...            290      2004   \n2864     2.00     4          3     10  ...           1600      1941   \n3914     2.00     2          3     11  ...           2360      1940   \n3934     1.00     4          3      9  ...           1852      1978   \n5760     2.00     4          3      8  ...            580      1956   \n6233     2.00     4          3     11  ...           1940      2002   \n6508     1.50     4          5     11  ...           1570      1936   \n7989     2.00     4          3     10  ...           1490      2005   \n8092     1.00     4          3     12  ...           4820      1983   \n8163     2.00     3          3      9  ...            310      1988   \n8784     2.00     4          4     10  ...            420      1933   \n10263    2.00     4          3      8  ...           1000      1949   \n11257    2.00     4          5     10  ...           1000      1989   \n11402    2.00     4          3     12  ...           1390      2001   \n11424    1.00     4          4      8  ...           1400      1962   \n11446    2.00     4          4     10  ...           1270      1993   \n11844    2.00     4          4      9  ...            300      1930   \n12459    2.00     4          3      8  ...            180      1942   \n12935    2.00     4          4      8  ...           1190      1977   \n13710    2.00     4          3     11  ...           1870      1979   \n13967    1.00     4          3     10  ...           1790      1954   \n14083    2.00     4          4     11  ...           1760      1989   \n14619    2.00     4          5     10  ...           1250      1977   \n14822    2.00     4          4     10  ...           1190      1973   \n15482    1.00     4          4     12  ...           3500      1991   \n15668    3.00     4          3     11  ...           1650      1998   \n16817    2.00     4          3     12  ...           1816      1999   \n17767    1.50     4          4      7  ...            100      1915   \n18199    1.00     4          4     11  ...           1760      1958   \n18455    2.00     4          3     11  ...           1270      2001   \n18556    2.00     3          5     10  ...            860      1923   \n20325    2.00     4          3     11  ...            980      2014   \n20767    2.50     4          3     10  ...            420      2007   \n21201    2.00     4          3     11  ...            930      2014   \n21576    2.00     4          3     10  ...           1310      2007   \n\n       yr_renovated  zipcode   lat    long  sqft_living15  sqft_lot15  \\\n300               0    98074 47.61 -122.08           4550       19508   \n457               0    98070 47.38 -122.44           2280       75396   \n1164              0    98033 47.68 -122.21           3430       26788   \n1261           1990    98166 47.47 -122.36           2460       18512   \n1315              0    98040 47.56 -122.21           4320       24619   \n1361              0    98052 47.64 -122.10           3140       14200   \n2626              0    98155 47.75 -122.28           3030       23408   \n2864           2002    98144 47.59 -122.29           3680       12620   \n3914           2001    98004 47.65 -122.21           3930       25449   \n3934           2006    98070 47.39 -122.45           2850       33361   \n5760           1991    98178 47.50 -122.22           2240        8725   \n6233              0    98027 47.56 -122.08           3330       14810   \n6508              0    98105 47.65 -122.28           3510       15810   \n7989              0    98040 47.53 -122.24           3670       17826   \n8092           2009    98040 47.56 -122.21           3270       10454   \n8163              0    98075 47.57 -122.06           2740        3568   \n8784           1989    98006 47.55 -122.20           3140       11949   \n10263          1985    98033 47.68 -122.21           2660       27295   \n11257             0    98034 47.70 -122.24           3350       12210   \n11402             0    98115 47.69 -122.27           2640       15929   \n11424             0    98198 47.39 -122.33           1170       70973   \n11446             0    98075 47.60 -122.08           2980        5575   \n11844             0    98166 47.45 -122.38           2300       12200   \n12459          1983    98144 47.59 -122.29           3680       12620   \n12935             0    98198 47.36 -122.32           2990       11476   \n13710             0    98027 47.57 -122.09           3390        9905   \n13967             0    98033 47.70 -122.22           3250       49346   \n14083             0    98008 47.60 -122.11           2940       13525   \n14619             0    98136 47.55 -122.40           2550       34713   \n14822             0    98040 47.57 -122.24           3760       16572   \n15482             0    98075 47.59 -122.09           4913       14663   \n15668             0    98155 47.76 -122.27           3020       12880   \n16817             0    98033 47.66 -122.21           4340        5250   \n17767          1965    98125 47.71 -122.28           2410        6389   \n18199          1987    98008 47.61 -122.11           3810       30401   \n18455             0    98008 47.57 -122.10           2760        8525   \n18556             0    98105 47.66 -122.27           4140       19281   \n20325             0    98056 47.53 -122.20           3550        5634   \n20767             0    98008 47.57 -122.10           2670        8525   \n21201             0    98056 47.53 -122.20           3560        5762   \n21576             0    98008 47.59 -122.11           3470       18270   \n\n       sale_date is_waterfront  \n300   2014-06-24          True  \n457   2014-11-26          True  \n1164  2014-10-20          True  \n1261  2014-06-25          True  \n1315  2015-04-13          True  \n1361  2015-05-11          True  \n2626  2014-08-15          True  \n2864  2014-11-18          True  \n3914  2014-06-11          True  \n3934  2014-07-23          True  \n5760  2014-07-17          True  \n6233  2014-06-19          True  \n6508  2015-04-21          True  \n7989  2014-06-23          True  \n8092  2014-06-17          True  \n8163  2015-03-19          True  \n8784  2015-03-06          True  \n10263 2014-08-13          True  \n11257 2014-06-18          True  \n11402 2014-08-19          True  \n11424 2014-06-20          True  \n11446 2014-12-09          True  \n11844 2015-02-18          True  \n12459 2014-07-24          True  \n12935 2014-06-12          True  \n13710 2014-12-16          True  \n13967 2015-03-03          True  \n14083 2014-09-04          True  \n14619 2014-07-25          True  \n14822 2015-03-30          True  \n15482 2014-08-12          True  \n15668 2014-10-01          True  \n16817 2014-09-23          True  \n17767 2015-01-15          True  \n18199 2014-12-30          True  \n18455 2014-06-08          True  \n18556 2014-09-02          True  \n20325 2014-08-11          True  \n20767 2015-04-17          True  \n21201 2014-10-08          True  \n21576 2015-01-07          True  \n\n[41 rows x 21 columns]",
      "text/html": "<div>\n<style scoped>\n    .dataframe tbody tr th:only-of-type {\n        vertical-align: middle;\n    }\n\n    .dataframe tbody tr th {\n        vertical-align: top;\n    }\n\n    .dataframe thead th {\n        text-align: right;\n    }\n</style>\n<table border=\"1\" class=\"dataframe\">\n  <thead>\n    <tr style=\"text-align: right;\">\n      <th></th>\n      <th>id</th>\n      <th>price</th>\n      <th>bedrooms</th>\n      <th>bathrooms</th>\n      <th>sqft_living</th>\n      <th>sqft_lot</th>\n      <th>floors</th>\n      <th>view</th>\n      <th>condition</th>\n      <th>grade</th>\n      <th>...</th>\n      <th>sqft_basement</th>\n      <th>yr_built</th>\n      <th>yr_renovated</th>\n      <th>zipcode</th>\n      <th>lat</th>\n      <th>long</th>\n      <th>sqft_living15</th>\n      <th>sqft_lot15</th>\n      <th>sale_date</th>\n      <th>is_waterfront</th>\n    </tr>\n  </thead>\n  <tbody>\n    <tr>\n      <th>300</th>\n      <td>3225069065</td>\n      <td>3,075,000.00</td>\n      <td>4</td>\n      <td>5.00</td>\n      <td>4550</td>\n      <td>18641</td>\n      <td>1.00</td>\n      <td>4</td>\n      <td>3</td>\n      <td>10</td>\n      <td>...</td>\n      <td>1950</td>\n      <td>2002</td>\n      <td>0</td>\n      <td>98074</td>\n      <td>47.61</td>\n      <td>-122.08</td>\n      <td>4550</td>\n      <td>19508</td>\n      <td>2014-06-24</td>\n      <td>True</td>\n    </tr>\n    <tr>\n      <th>457</th>\n      <td>2122039094</td>\n      <td>705,000.00</td>\n      <td>3</td>\n      <td>3.00</td>\n      <td>1970</td>\n      <td>20978</td>\n      <td>2.00</td>\n      <td>3</td>\n      <td>4</td>\n      <td>9</td>\n      <td>...</td>\n      <td>200</td>\n      <td>1980</td>\n      <td>0</td>\n      <td>98070</td>\n      <td>47.38</td>\n      <td>-122.44</td>\n      <td>2280</td>\n      <td>75396</td>\n      <td>2014-11-26</td>\n      <td>True</td>\n    </tr>\n    <tr>\n      <th>1164</th>\n      <td>1247600105</td>\n      <td>5,110,800.00</td>\n      <td>5</td>\n      <td>5.25</td>\n      <td>8010</td>\n      <td>45517</td>\n      <td>2.00</td>\n      <td>4</td>\n      <td>3</td>\n      <td>12</td>\n      <td>...</td>\n      <td>2020</td>\n      <td>1999</td>\n      <td>0</td>\n      <td>98033</td>\n      <td>47.68</td>\n      <td>-122.21</td>\n      <td>3430</td>\n      <td>26788</td>\n      <td>2014-10-20</td>\n      <td>True</td>\n    </tr>\n    <tr>\n      <th>1261</th>\n      <td>7636800041</td>\n      <td>995,000.00</td>\n      <td>3</td>\n      <td>4.50</td>\n      <td>4380</td>\n      <td>47044</td>\n      <td>2.00</td>\n      <td>3</td>\n      <td>3</td>\n      <td>9</td>\n      <td>...</td>\n      <td>660</td>\n      <td>1968</td>\n      <td>1990</td>\n      <td>98166</td>\n      <td>47.47</td>\n      <td>-122.36</td>\n      <td>2460</td>\n      <td>18512</td>\n      <td>2014-06-25</td>\n      <td>True</td>\n    </tr>\n    <tr>\n      <th>1315</th>\n      <td>7558700030</td>\n      <td>5,300,000.00</td>\n      <td>6</td>\n      <td>6.00</td>\n      <td>7390</td>\n      <td>24829</td>\n      <td>2.00</td>\n      <td>4</td>\n      <td>4</td>\n      <td>12</td>\n      <td>...</td>\n      <td>2390</td>\n      <td>1991</td>\n      <td>0</td>\n      <td>98040</td>\n      <td>47.56</td>\n      <td>-122.21</td>\n      <td>4320</td>\n      <td>24619</td>\n      <td>2015-04-13</td>\n      <td>True</td>\n    </tr>\n    <tr>\n      <th>1361</th>\n      <td>1925069082</td>\n      <td>2,200,000.00</td>\n      <td>5</td>\n      <td>4.25</td>\n      <td>4640</td>\n      <td>22703</td>\n      <td>2.00</td>\n      <td>4</td>\n      <td>5</td>\n      <td>8</td>\n      <td>...</td>\n      <td>1780</td>\n      <td>1952</td>\n      <td>0</td>\n      <td>98052</td>\n      <td>47.64</td>\n      <td>-122.10</td>\n      <td>3140</td>\n      <td>14200</td>\n      <td>2015-05-11</td>\n      <td>True</td>\n    </tr>\n    <tr>\n      <th>2626</th>\n      <td>7738500731</td>\n      <td>4,500,000.00</td>\n      <td>5</td>\n      <td>5.50</td>\n      <td>6640</td>\n      <td>40014</td>\n      <td>2.00</td>\n      <td>4</td>\n      <td>3</td>\n      <td>12</td>\n      <td>...</td>\n      <td>290</td>\n      <td>2004</td>\n      <td>0</td>\n      <td>98155</td>\n      <td>47.75</td>\n      <td>-122.28</td>\n      <td>3030</td>\n      <td>23408</td>\n      <td>2014-08-15</td>\n      <td>True</td>\n    </tr>\n    <tr>\n      <th>2864</th>\n      <td>4114601570</td>\n      <td>3,600,000.00</td>\n      <td>3</td>\n      <td>3.25</td>\n      <td>5020</td>\n      <td>12431</td>\n      <td>2.00</td>\n      <td>4</td>\n      <td>3</td>\n      <td>10</td>\n      <td>...</td>\n      <td>1600</td>\n      <td>1941</td>\n      <td>2002</td>\n      <td>98144</td>\n      <td>47.59</td>\n      <td>-122.29</td>\n      <td>3680</td>\n      <td>12620</td>\n      <td>2014-11-18</td>\n      <td>True</td>\n    </tr>\n    <tr>\n      <th>3914</th>\n      <td>9808700762</td>\n      <td>7,062,500.00</td>\n      <td>5</td>\n      <td>4.50</td>\n      <td>10040</td>\n      <td>37325</td>\n      <td>2.00</td>\n      <td>2</td>\n      <td>3</td>\n      <td>11</td>\n      <td>...</td>\n      <td>2360</td>\n      <td>1940</td>\n      <td>2001</td>\n      <td>98004</td>\n      <td>47.65</td>\n      <td>-122.21</td>\n      <td>3930</td>\n      <td>25449</td>\n      <td>2014-06-11</td>\n      <td>True</td>\n    </tr>\n    <tr>\n      <th>3934</th>\n      <td>1269200229</td>\n      <td>1,379,900.00</td>\n      <td>3</td>\n      <td>3.25</td>\n      <td>3786</td>\n      <td>38038</td>\n      <td>1.00</td>\n      <td>4</td>\n      <td>3</td>\n      <td>9</td>\n      <td>...</td>\n      <td>1852</td>\n      <td>1978</td>\n      <td>2006</td>\n      <td>98070</td>\n      <td>47.39</td>\n      <td>-122.45</td>\n      <td>2850</td>\n      <td>33361</td>\n      <td>2014-07-23</td>\n      <td>True</td>\n    </tr>\n    <tr>\n      <th>5760</th>\n      <td>623059016</td>\n      <td>1,100,000.00</td>\n      <td>4</td>\n      <td>3.25</td>\n      <td>3190</td>\n      <td>11774</td>\n      <td>2.00</td>\n      <td>4</td>\n      <td>3</td>\n      <td>8</td>\n      <td>...</td>\n      <td>580</td>\n      <td>1956</td>\n      <td>1991</td>\n      <td>98178</td>\n      <td>47.50</td>\n      <td>-122.22</td>\n      <td>2240</td>\n      <td>8725</td>\n      <td>2014-07-17</td>\n      <td>True</td>\n    </tr>\n    <tr>\n      <th>6233</th>\n      <td>2024069008</td>\n      <td>2,200,000.00</td>\n      <td>5</td>\n      <td>4.75</td>\n      <td>5990</td>\n      <td>10450</td>\n      <td>2.00</td>\n      <td>4</td>\n      <td>3</td>\n      <td>11</td>\n      <td>...</td>\n      <td>1940</td>\n      <td>2002</td>\n      <td>0</td>\n      <td>98027</td>\n      <td>47.56</td>\n      <td>-122.08</td>\n      <td>3330</td>\n      <td>14810</td>\n      <td>2014-06-19</td>\n      <td>True</td>\n    </tr>\n    <tr>\n      <th>6508</th>\n      <td>4217402115</td>\n      <td>3,650,000.00</td>\n      <td>6</td>\n      <td>4.75</td>\n      <td>5480</td>\n      <td>19401</td>\n      <td>1.50</td>\n      <td>4</td>\n      <td>5</td>\n      <td>11</td>\n      <td>...</td>\n      <td>1570</td>\n      <td>1936</td>\n      <td>0</td>\n      <td>98105</td>\n      <td>47.65</td>\n      <td>-122.28</td>\n      <td>3510</td>\n      <td>15810</td>\n      <td>2015-04-21</td>\n      <td>True</td>\n    </tr>\n    <tr>\n      <th>7989</th>\n      <td>9362000040</td>\n      <td>3,400,000.00</td>\n      <td>3</td>\n      <td>4.50</td>\n      <td>5230</td>\n      <td>17826</td>\n      <td>2.00</td>\n      <td>4</td>\n      <td>3</td>\n      <td>10</td>\n      <td>...</td>\n      <td>1490</td>\n      <td>2005</td>\n      <td>0</td>\n      <td>98040</td>\n      <td>47.53</td>\n      <td>-122.24</td>\n      <td>3670</td>\n      <td>17826</td>\n      <td>2014-06-23</td>\n      <td>True</td>\n    </tr>\n    <tr>\n      <th>8092</th>\n      <td>1924059029</td>\n      <td>4,668,000.00</td>\n      <td>5</td>\n      <td>6.75</td>\n      <td>9640</td>\n      <td>13068</td>\n      <td>1.00</td>\n      <td>4</td>\n      <td>3</td>\n      <td>12</td>\n      <td>...</td>\n      <td>4820</td>\n      <td>1983</td>\n      <td>2009</td>\n      <td>98040</td>\n      <td>47.56</td>\n      <td>-122.21</td>\n      <td>3270</td>\n      <td>10454</td>\n      <td>2014-06-17</td>\n      <td>True</td>\n    </tr>\n    <tr>\n      <th>8163</th>\n      <td>1724069079</td>\n      <td>1,452,000.00</td>\n      <td>2</td>\n      <td>3.25</td>\n      <td>2070</td>\n      <td>3128</td>\n      <td>2.00</td>\n      <td>3</td>\n      <td>3</td>\n      <td>9</td>\n      <td>...</td>\n      <td>310</td>\n      <td>1988</td>\n      <td>0</td>\n      <td>98075</td>\n      <td>47.57</td>\n      <td>-122.06</td>\n      <td>2740</td>\n      <td>3568</td>\n      <td>2015-03-19</td>\n      <td>True</td>\n    </tr>\n    <tr>\n      <th>8784</th>\n      <td>3343302110</td>\n      <td>1,800,000.00</td>\n      <td>3</td>\n      <td>3.00</td>\n      <td>2790</td>\n      <td>13295</td>\n      <td>2.00</td>\n      <td>4</td>\n      <td>4</td>\n      <td>10</td>\n      <td>...</td>\n      <td>420</td>\n      <td>1933</td>\n      <td>1989</td>\n      <td>98006</td>\n      <td>47.55</td>\n      <td>-122.20</td>\n      <td>3140</td>\n      <td>11949</td>\n      <td>2015-03-06</td>\n      <td>True</td>\n    </tr>\n    <tr>\n      <th>10263</th>\n      <td>625059036</td>\n      <td>2,700,000.00</td>\n      <td>5</td>\n      <td>4.00</td>\n      <td>4230</td>\n      <td>27295</td>\n      <td>2.00</td>\n      <td>4</td>\n      <td>3</td>\n      <td>8</td>\n      <td>...</td>\n      <td>1000</td>\n      <td>1949</td>\n      <td>1985</td>\n      <td>98033</td>\n      <td>47.68</td>\n      <td>-122.21</td>\n      <td>2660</td>\n      <td>27295</td>\n      <td>2014-08-13</td>\n      <td>True</td>\n    </tr>\n    <tr>\n      <th>11257</th>\n      <td>3761100045</td>\n      <td>3,000,000.00</td>\n      <td>4</td>\n      <td>4.25</td>\n      <td>4850</td>\n      <td>12445</td>\n      <td>2.00</td>\n      <td>4</td>\n      <td>5</td>\n      <td>10</td>\n      <td>...</td>\n      <td>1000</td>\n      <td>1989</td>\n      <td>0</td>\n      <td>98034</td>\n      <td>47.70</td>\n      <td>-122.24</td>\n      <td>3350</td>\n      <td>12210</td>\n      <td>2014-06-18</td>\n      <td>True</td>\n    </tr>\n    <tr>\n      <th>11402</th>\n      <td>3426049284</td>\n      <td>2,300,000.00</td>\n      <td>4</td>\n      <td>3.25</td>\n      <td>4110</td>\n      <td>15929</td>\n      <td>2.00</td>\n      <td>4</td>\n      <td>3</td>\n      <td>12</td>\n      <td>...</td>\n      <td>1390</td>\n      <td>2001</td>\n      <td>0</td>\n      <td>98115</td>\n      <td>47.69</td>\n      <td>-122.27</td>\n      <td>2640</td>\n      <td>15929</td>\n      <td>2014-08-19</td>\n      <td>True</td>\n    </tr>\n    <tr>\n      <th>11424</th>\n      <td>5119400075</td>\n      <td>950,000.00</td>\n      <td>3</td>\n      <td>3.25</td>\n      <td>3050</td>\n      <td>18892</td>\n      <td>1.00</td>\n      <td>4</td>\n      <td>4</td>\n      <td>8</td>\n      <td>...</td>\n      <td>1400</td>\n      <td>1962</td>\n      <td>0</td>\n      <td>98198</td>\n      <td>47.39</td>\n      <td>-122.33</td>\n      <td>1170</td>\n      <td>70973</td>\n      <td>2014-06-20</td>\n      <td>True</td>\n    </tr>\n    <tr>\n      <th>11446</th>\n      <td>624069035</td>\n      <td>2,750,000.00</td>\n      <td>4</td>\n      <td>4.00</td>\n      <td>4130</td>\n      <td>5575</td>\n      <td>2.00</td>\n      <td>4</td>\n      <td>4</td>\n      <td>10</td>\n      <td>...</td>\n      <td>1270</td>\n      <td>1993</td>\n      <td>0</td>\n      <td>98075</td>\n      <td>47.60</td>\n      <td>-122.08</td>\n      <td>2980</td>\n      <td>5575</td>\n      <td>2014-12-09</td>\n      <td>True</td>\n    </tr>\n    <tr>\n      <th>11844</th>\n      <td>2623039082</td>\n      <td>770,000.00</td>\n      <td>3</td>\n      <td>3.50</td>\n      <td>2050</td>\n      <td>21744</td>\n      <td>2.00</td>\n      <td>4</td>\n      <td>4</td>\n      <td>9</td>\n      <td>...</td>\n      <td>300</td>\n      <td>1930</td>\n      <td>0</td>\n      <td>98166</td>\n      <td>47.45</td>\n      <td>-122.38</td>\n      <td>2300</td>\n      <td>12200</td>\n      <td>2015-02-18</td>\n      <td>True</td>\n    </tr>\n    <tr>\n      <th>12459</th>\n      <td>4114601580</td>\n      <td>1,900,000.00</td>\n      <td>6</td>\n      <td>4.00</td>\n      <td>3020</td>\n      <td>13237</td>\n      <td>2.00</td>\n      <td>4</td>\n      <td>3</td>\n      <td>8</td>\n      <td>...</td>\n      <td>180</td>\n      <td>1942</td>\n      <td>1983</td>\n      <td>98144</td>\n      <td>47.59</td>\n      <td>-122.29</td>\n      <td>3680</td>\n      <td>12620</td>\n      <td>2014-07-24</td>\n      <td>True</td>\n    </tr>\n    <tr>\n      <th>12935</th>\n      <td>3222049044</td>\n      <td>835,000.00</td>\n      <td>3</td>\n      <td>3.00</td>\n      <td>2790</td>\n      <td>12523</td>\n      <td>2.00</td>\n      <td>4</td>\n      <td>4</td>\n      <td>8</td>\n      <td>...</td>\n      <td>1190</td>\n      <td>1977</td>\n      <td>0</td>\n      <td>98198</td>\n      <td>47.36</td>\n      <td>-122.32</td>\n      <td>2990</td>\n      <td>11476</td>\n      <td>2014-06-12</td>\n      <td>True</td>\n    </tr>\n    <tr>\n      <th>13710</th>\n      <td>2923500230</td>\n      <td>2,600,000.00</td>\n      <td>4</td>\n      <td>4.50</td>\n      <td>5270</td>\n      <td>12195</td>\n      <td>2.00</td>\n      <td>4</td>\n      <td>3</td>\n      <td>11</td>\n      <td>...</td>\n      <td>1870</td>\n      <td>1979</td>\n      <td>0</td>\n      <td>98027</td>\n      <td>47.57</td>\n      <td>-122.09</td>\n      <td>3390</td>\n      <td>9905</td>\n      <td>2014-12-16</td>\n      <td>True</td>\n    </tr>\n    <tr>\n      <th>13967</th>\n      <td>3126059023</td>\n      <td>3,395,000.00</td>\n      <td>4</td>\n      <td>3.50</td>\n      <td>4730</td>\n      <td>47870</td>\n      <td>1.00</td>\n      <td>4</td>\n      <td>3</td>\n      <td>10</td>\n      <td>...</td>\n      <td>1790</td>\n      <td>1954</td>\n      <td>0</td>\n      <td>98033</td>\n      <td>47.70</td>\n      <td>-122.22</td>\n      <td>3250</td>\n      <td>49346</td>\n      <td>2015-03-03</td>\n      <td>True</td>\n    </tr>\n    <tr>\n      <th>14083</th>\n      <td>3625059043</td>\n      <td>3,300,000.00</td>\n      <td>5</td>\n      <td>4.75</td>\n      <td>6200</td>\n      <td>13873</td>\n      <td>2.00</td>\n      <td>4</td>\n      <td>4</td>\n      <td>11</td>\n      <td>...</td>\n      <td>1760</td>\n      <td>1989</td>\n      <td>0</td>\n      <td>98008</td>\n      <td>47.60</td>\n      <td>-122.11</td>\n      <td>2940</td>\n      <td>13525</td>\n      <td>2014-09-04</td>\n      <td>True</td>\n    </tr>\n    <tr>\n      <th>14619</th>\n      <td>7936500109</td>\n      <td>2,230,000.00</td>\n      <td>3</td>\n      <td>3.00</td>\n      <td>3620</td>\n      <td>28064</td>\n      <td>2.00</td>\n      <td>4</td>\n      <td>5</td>\n      <td>10</td>\n      <td>...</td>\n      <td>1250</td>\n      <td>1977</td>\n      <td>0</td>\n      <td>98136</td>\n      <td>47.55</td>\n      <td>-122.40</td>\n      <td>2550</td>\n      <td>34713</td>\n      <td>2014-07-25</td>\n      <td>True</td>\n    </tr>\n    <tr>\n      <th>14822</th>\n      <td>3623500408</td>\n      <td>2,600,000.00</td>\n      <td>3</td>\n      <td>3.00</td>\n      <td>3410</td>\n      <td>16015</td>\n      <td>2.00</td>\n      <td>4</td>\n      <td>4</td>\n      <td>10</td>\n      <td>...</td>\n      <td>1190</td>\n      <td>1973</td>\n      <td>0</td>\n      <td>98040</td>\n      <td>47.57</td>\n      <td>-122.24</td>\n      <td>3760</td>\n      <td>16572</td>\n      <td>2015-03-30</td>\n      <td>True</td>\n    </tr>\n    <tr>\n      <th>15482</th>\n      <td>624069108</td>\n      <td>3,200,000.00</td>\n      <td>4</td>\n      <td>3.25</td>\n      <td>7000</td>\n      <td>28206</td>\n      <td>1.00</td>\n      <td>4</td>\n      <td>4</td>\n      <td>12</td>\n      <td>...</td>\n      <td>3500</td>\n      <td>1991</td>\n      <td>0</td>\n      <td>98075</td>\n      <td>47.59</td>\n      <td>-122.09</td>\n      <td>4913</td>\n      <td>14663</td>\n      <td>2014-08-12</td>\n      <td>True</td>\n    </tr>\n    <tr>\n      <th>15668</th>\n      <td>4030100290</td>\n      <td>1,680,000.00</td>\n      <td>5</td>\n      <td>3.50</td>\n      <td>5170</td>\n      <td>7197</td>\n      <td>3.00</td>\n      <td>4</td>\n      <td>3</td>\n      <td>11</td>\n      <td>...</td>\n      <td>1650</td>\n      <td>1998</td>\n      <td>0</td>\n      <td>98155</td>\n      <td>47.76</td>\n      <td>-122.27</td>\n      <td>3020</td>\n      <td>12880</td>\n      <td>2014-10-01</td>\n      <td>True</td>\n    </tr>\n    <tr>\n      <th>16817</th>\n      <td>825059178</td>\n      <td>2,574,000.00</td>\n      <td>4</td>\n      <td>3.75</td>\n      <td>4475</td>\n      <td>20424</td>\n      <td>2.00</td>\n      <td>4</td>\n      <td>3</td>\n      <td>12</td>\n      <td>...</td>\n      <td>1816</td>\n      <td>1999</td>\n      <td>0</td>\n      <td>98033</td>\n      <td>47.66</td>\n      <td>-122.21</td>\n      <td>4340</td>\n      <td>5250</td>\n      <td>2014-09-23</td>\n      <td>True</td>\n    </tr>\n    <tr>\n      <th>17767</th>\n      <td>7352200450</td>\n      <td>2,050,000.00</td>\n      <td>4</td>\n      <td>3.25</td>\n      <td>3580</td>\n      <td>19989</td>\n      <td>1.50</td>\n      <td>4</td>\n      <td>4</td>\n      <td>7</td>\n      <td>...</td>\n      <td>100</td>\n      <td>1915</td>\n      <td>1965</td>\n      <td>98125</td>\n      <td>47.71</td>\n      <td>-122.28</td>\n      <td>2410</td>\n      <td>6389</td>\n      <td>2015-01-15</td>\n      <td>True</td>\n    </tr>\n    <tr>\n      <th>18199</th>\n      <td>3625059152</td>\n      <td>3,300,000.00</td>\n      <td>3</td>\n      <td>3.25</td>\n      <td>4220</td>\n      <td>41300</td>\n      <td>1.00</td>\n      <td>4</td>\n      <td>4</td>\n      <td>11</td>\n      <td>...</td>\n      <td>1760</td>\n      <td>1958</td>\n      <td>1987</td>\n      <td>98008</td>\n      <td>47.61</td>\n      <td>-122.11</td>\n      <td>3810</td>\n      <td>30401</td>\n      <td>2014-12-30</td>\n      <td>True</td>\n    </tr>\n    <tr>\n      <th>18455</th>\n      <td>8043700300</td>\n      <td>2,700,000.00</td>\n      <td>4</td>\n      <td>3.25</td>\n      <td>4420</td>\n      <td>7850</td>\n      <td>2.00</td>\n      <td>4</td>\n      <td>3</td>\n      <td>11</td>\n      <td>...</td>\n      <td>1270</td>\n      <td>2001</td>\n      <td>0</td>\n      <td>98008</td>\n      <td>47.57</td>\n      <td>-122.10</td>\n      <td>2760</td>\n      <td>8525</td>\n      <td>2014-06-08</td>\n      <td>True</td>\n    </tr>\n    <tr>\n      <th>18556</th>\n      <td>6613000930</td>\n      <td>2,950,000.00</td>\n      <td>4</td>\n      <td>3.25</td>\n      <td>3890</td>\n      <td>25470</td>\n      <td>2.00</td>\n      <td>3</td>\n      <td>5</td>\n      <td>10</td>\n      <td>...</td>\n      <td>860</td>\n      <td>1923</td>\n      <td>0</td>\n      <td>98105</td>\n      <td>47.66</td>\n      <td>-122.27</td>\n      <td>4140</td>\n      <td>19281</td>\n      <td>2014-09-02</td>\n      <td>True</td>\n    </tr>\n    <tr>\n      <th>20325</th>\n      <td>518500480</td>\n      <td>3,000,000.00</td>\n      <td>3</td>\n      <td>3.50</td>\n      <td>4410</td>\n      <td>10756</td>\n      <td>2.00</td>\n      <td>4</td>\n      <td>3</td>\n      <td>11</td>\n      <td>...</td>\n      <td>980</td>\n      <td>2014</td>\n      <td>0</td>\n      <td>98056</td>\n      <td>47.53</td>\n      <td>-122.20</td>\n      <td>3550</td>\n      <td>5634</td>\n      <td>2014-08-11</td>\n      <td>True</td>\n    </tr>\n    <tr>\n      <th>20767</th>\n      <td>8043700105</td>\n      <td>2,300,000.00</td>\n      <td>4</td>\n      <td>4.00</td>\n      <td>4360</td>\n      <td>8175</td>\n      <td>2.50</td>\n      <td>4</td>\n      <td>3</td>\n      <td>10</td>\n      <td>...</td>\n      <td>420</td>\n      <td>2007</td>\n      <td>0</td>\n      <td>98008</td>\n      <td>47.57</td>\n      <td>-122.10</td>\n      <td>2670</td>\n      <td>8525</td>\n      <td>2015-04-17</td>\n      <td>True</td>\n    </tr>\n    <tr>\n      <th>21201</th>\n      <td>518500460</td>\n      <td>2,230,000.00</td>\n      <td>3</td>\n      <td>3.50</td>\n      <td>3760</td>\n      <td>5634</td>\n      <td>2.00</td>\n      <td>4</td>\n      <td>3</td>\n      <td>11</td>\n      <td>...</td>\n      <td>930</td>\n      <td>2014</td>\n      <td>0</td>\n      <td>98056</td>\n      <td>47.53</td>\n      <td>-122.20</td>\n      <td>3560</td>\n      <td>5762</td>\n      <td>2014-10-08</td>\n      <td>True</td>\n    </tr>\n    <tr>\n      <th>21576</th>\n      <td>9253900271</td>\n      <td>3,567,000.00</td>\n      <td>5</td>\n      <td>4.50</td>\n      <td>4850</td>\n      <td>10584</td>\n      <td>2.00</td>\n      <td>4</td>\n      <td>3</td>\n      <td>10</td>\n      <td>...</td>\n      <td>1310</td>\n      <td>2007</td>\n      <td>0</td>\n      <td>98008</td>\n      <td>47.59</td>\n      <td>-122.11</td>\n      <td>3470</td>\n      <td>18270</td>\n      <td>2015-01-07</td>\n      <td>True</td>\n    </tr>\n  </tbody>\n</table>\n<p>41 rows × 21 columns</p>\n</div>"
     },
     "execution_count": 19,
     "metadata": {},
     "output_type": "execute_result"
    }
   ],
   "source": [
    "print(\n",
    "    f\"По данному запросу есть {hd[(hd['is_waterfront']) & (hd['bathrooms'] >= 3) & (hd['sqft_basement'] > 0)]['id'].count()} вариант(a,ов)\")\n",
    "\n",
    "hd[(hd['is_waterfront']) & (hd['bathrooms'] >= 3) & (hd['sqft_basement'] > 0)]"
   ],
   "metadata": {
    "collapsed": false,
    "ExecuteTime": {
     "end_time": "2024-02-24T22:25:46.520946200Z",
     "start_time": "2024-02-24T22:25:46.377982800Z"
    }
   },
   "id": "43922ab326ea35db"
  },
  {
   "cell_type": "markdown",
   "source": [
    "## 5.2 Выберите дом клиенту\n",
    "Клиент хочет дом либо с очень красивым видом из окна, либо с\n",
    "видом на набережную, в очень хорошем состоянии и год\n",
    "постройки не меньше 1980 года. В какой ценовом диапазоне\n",
    "будут дома?\n"
   ],
   "metadata": {
    "collapsed": false
   },
   "id": "cc6f67bc83ac10c3"
  },
  {
   "cell_type": "code",
   "execution_count": 20,
   "outputs": [
    {
     "data": {
      "text/plain": "'По данному запросу дома находятся в диапазоне цен от 420,000.00 до 5,300,000.00'"
     },
     "execution_count": 20,
     "metadata": {},
     "output_type": "execute_result"
    }
   ],
   "source": [
    "query = hd[((hd['is_waterfront']) | (hd['view'] >= 3)) & (hd['condition']>=4) & (hd['yr_built']>=1980)]\n",
    "f\"По данному запросу дома находятся в диапазоне цен от {query['price'].min():,.2f} до {query['price'].max():,.2f}\""
   ],
   "metadata": {
    "collapsed": false,
    "ExecuteTime": {
     "end_time": "2024-02-24T22:25:46.521946200Z",
     "start_time": "2024-02-24T22:25:46.436913700Z"
    }
   },
   "id": "26fb51dd32a1c0d6"
  },
  {
   "cell_type": "markdown",
   "source": [
    "## 5.3 Выберите дом клиенту\n",
    "Клиент хочет дом без подвала, с двумя этажами, стоимостью\n",
    "до 150_000. Какая оценка по состоянию у таких домов в\n",
    "среднем?"
   ],
   "metadata": {
    "collapsed": false
   },
   "id": "a8fb3c4496f9b484"
  },
  {
   "cell_type": "code",
   "execution_count": 21,
   "outputs": [
    {
     "data": {
      "text/plain": "'В среднем оценка по состоянию у домов из запроса равна 3'"
     },
     "execution_count": 21,
     "metadata": {},
     "output_type": "execute_result"
    }
   ],
   "source": [
    "query = hd[(hd['sqft_basement']==0) & (hd['floors']==2) & (hd['price']<150_000)]\n",
    "f\"В среднем оценка по состоянию у домов из запроса равна {query['condition'].mean():.0f}\""
   ],
   "metadata": {
    "collapsed": false,
    "ExecuteTime": {
     "end_time": "2024-02-24T22:25:46.856836900Z",
     "start_time": "2024-02-24T22:25:46.446110200Z"
    }
   },
   "id": "f80d4c2f2488354b"
  }
 ],
 "metadata": {
  "kernelspec": {
   "display_name": "Python 3",
   "language": "python",
   "name": "python3"
  },
  "language_info": {
   "codemirror_mode": {
    "name": "ipython",
    "version": 2
   },
   "file_extension": ".py",
   "mimetype": "text/x-python",
   "name": "python",
   "nbconvert_exporter": "python",
   "pygments_lexer": "ipython2",
   "version": "2.7.6"
  }
 },
 "nbformat": 4,
 "nbformat_minor": 5
}
